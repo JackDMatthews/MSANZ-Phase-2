{
 "cells": [
  {
   "attachments": {},
   "cell_type": "markdown",
   "id": "ce060bc6",
   "metadata": {},
   "source": [
    "# MSA 2023 Phase 2 - Part 2"
   ]
  },
  {
   "cell_type": "code",
   "execution_count": 79,
   "id": "7d488f42",
   "metadata": {},
   "outputs": [],
   "source": [
    "import sklearn\n",
    "import numpy as np\n",
    "import pandas as pd\n",
    "import seaborn as sns\n",
    "import matplotlib.pyplot as plt\n",
    "%matplotlib inline"
   ]
  },
  {
   "attachments": {},
   "cell_type": "markdown",
   "id": "08c4bc0a",
   "metadata": {},
   "source": [
    "## 1. Load and split preprocessed data"
   ]
  },
  {
   "cell_type": "code",
   "execution_count": 80,
   "id": "425407e4",
   "metadata": {},
   "outputs": [
    {
     "data": {
      "text/html": [
       "<div>\n",
       "<style scoped>\n",
       "    .dataframe tbody tr th:only-of-type {\n",
       "        vertical-align: middle;\n",
       "    }\n",
       "\n",
       "    .dataframe tbody tr th {\n",
       "        vertical-align: top;\n",
       "    }\n",
       "\n",
       "    .dataframe thead th {\n",
       "        text-align: right;\n",
       "    }\n",
       "</style>\n",
       "<table border=\"1\" class=\"dataframe\">\n",
       "  <thead>\n",
       "    <tr style=\"text-align: right;\">\n",
       "      <th></th>\n",
       "      <th>Is_Male</th>\n",
       "      <th>ParentEduc</th>\n",
       "      <th>StandardLunch</th>\n",
       "      <th>TestPrep</th>\n",
       "      <th>PracticeSport</th>\n",
       "      <th>WklyStudyHours</th>\n",
       "      <th>MathScore</th>\n",
       "      <th>ReadingScore</th>\n",
       "      <th>WritingScore</th>\n",
       "      <th>EthnicGroup_group A</th>\n",
       "      <th>EthnicGroup_group B</th>\n",
       "      <th>EthnicGroup_group C</th>\n",
       "      <th>EthnicGroup_group D</th>\n",
       "      <th>EthnicGroup_group E</th>\n",
       "    </tr>\n",
       "  </thead>\n",
       "  <tbody>\n",
       "    <tr>\n",
       "      <th>0</th>\n",
       "      <td>0</td>\n",
       "      <td>2</td>\n",
       "      <td>1</td>\n",
       "      <td>0.5</td>\n",
       "      <td>1</td>\n",
       "      <td>1</td>\n",
       "      <td>0.69</td>\n",
       "      <td>0.90</td>\n",
       "      <td>0.88</td>\n",
       "      <td>0</td>\n",
       "      <td>0</td>\n",
       "      <td>1</td>\n",
       "      <td>0</td>\n",
       "      <td>0</td>\n",
       "    </tr>\n",
       "    <tr>\n",
       "      <th>1</th>\n",
       "      <td>0</td>\n",
       "      <td>5</td>\n",
       "      <td>1</td>\n",
       "      <td>0.0</td>\n",
       "      <td>1</td>\n",
       "      <td>0</td>\n",
       "      <td>0.87</td>\n",
       "      <td>0.93</td>\n",
       "      <td>0.91</td>\n",
       "      <td>0</td>\n",
       "      <td>1</td>\n",
       "      <td>0</td>\n",
       "      <td>0</td>\n",
       "      <td>0</td>\n",
       "    </tr>\n",
       "    <tr>\n",
       "      <th>2</th>\n",
       "      <td>1</td>\n",
       "      <td>3</td>\n",
       "      <td>0</td>\n",
       "      <td>0.0</td>\n",
       "      <td>0</td>\n",
       "      <td>1</td>\n",
       "      <td>0.45</td>\n",
       "      <td>0.56</td>\n",
       "      <td>0.42</td>\n",
       "      <td>1</td>\n",
       "      <td>0</td>\n",
       "      <td>0</td>\n",
       "      <td>0</td>\n",
       "      <td>0</td>\n",
       "    </tr>\n",
       "    <tr>\n",
       "      <th>3</th>\n",
       "      <td>1</td>\n",
       "      <td>2</td>\n",
       "      <td>1</td>\n",
       "      <td>0.0</td>\n",
       "      <td>1</td>\n",
       "      <td>1</td>\n",
       "      <td>0.76</td>\n",
       "      <td>0.78</td>\n",
       "      <td>0.75</td>\n",
       "      <td>0</td>\n",
       "      <td>0</td>\n",
       "      <td>1</td>\n",
       "      <td>0</td>\n",
       "      <td>0</td>\n",
       "    </tr>\n",
       "    <tr>\n",
       "      <th>4</th>\n",
       "      <td>0</td>\n",
       "      <td>3</td>\n",
       "      <td>1</td>\n",
       "      <td>0.0</td>\n",
       "      <td>2</td>\n",
       "      <td>1</td>\n",
       "      <td>0.73</td>\n",
       "      <td>0.84</td>\n",
       "      <td>0.79</td>\n",
       "      <td>0</td>\n",
       "      <td>1</td>\n",
       "      <td>0</td>\n",
       "      <td>0</td>\n",
       "      <td>0</td>\n",
       "    </tr>\n",
       "  </tbody>\n",
       "</table>\n",
       "</div>"
      ],
      "text/plain": [
       "   Is_Male  ParentEduc  StandardLunch  TestPrep  PracticeSport  \\\n",
       "0        0           2              1       0.5              1   \n",
       "1        0           5              1       0.0              1   \n",
       "2        1           3              0       0.0              0   \n",
       "3        1           2              1       0.0              1   \n",
       "4        0           3              1       0.0              2   \n",
       "\n",
       "   WklyStudyHours  MathScore  ReadingScore  WritingScore  EthnicGroup_group A  \\\n",
       "0               1       0.69          0.90          0.88                    0   \n",
       "1               0       0.87          0.93          0.91                    0   \n",
       "2               1       0.45          0.56          0.42                    1   \n",
       "3               1       0.76          0.78          0.75                    0   \n",
       "4               1       0.73          0.84          0.79                    0   \n",
       "\n",
       "   EthnicGroup_group B  EthnicGroup_group C  EthnicGroup_group D  \\\n",
       "0                    0                    1                    0   \n",
       "1                    1                    0                    0   \n",
       "2                    0                    0                    0   \n",
       "3                    0                    1                    0   \n",
       "4                    1                    0                    0   \n",
       "\n",
       "   EthnicGroup_group E  \n",
       "0                    0  \n",
       "1                    0  \n",
       "2                    0  \n",
       "3                    0  \n",
       "4                    0  "
      ]
     },
     "execution_count": 80,
     "metadata": {},
     "output_type": "execute_result"
    }
   ],
   "source": [
    "ExamData = pd.read_csv('PreprocessedExamData.csv')\n",
    "ExamData = ExamData.drop('Unnamed: 0', axis=1)\n",
    "ExamData.head()"
   ]
  },
  {
   "cell_type": "markdown",
   "id": "50de2c07",
   "metadata": {},
   "source": [
    "The data consists of the following   \n",
    "boolean values (1 for yes, 0 for no) for: Is_Male, Ever_Married, Graduated, all of the professions, and the values of 'Var_1'.\n",
    "The last two are from one-hot vectors meaning for each type only one value is true, all of these names are self describing, apart from Var_1 which I do not understand    \n",
    "As well as this there are numerical values which have been normalised for: Age, Work_Experience and Family_Size    \n",
    "The market segments are a categorical value from A through D    \n",
    "The spending score is ordinal data, with 1 being low, 2 being average, and 3 being high\n"
   ]
  },
  {
   "cell_type": "code",
   "execution_count": 81,
   "id": "82b64b4b",
   "metadata": {},
   "outputs": [],
   "source": [
    "from sklearn.model_selection import train_test_split\n",
    "\n",
    "\n",
    "#y = ExamData['ReadingScore']\n",
    "#X = ExamData.drop(['ReadingScore'], axis=1)\n",
    "\n",
    "y = ExamData[['MathScore','ReadingScore','WritingScore']]\n",
    "X = ExamData.drop(['MathScore','ReadingScore','WritingScore'], axis=1)\n",
    "\n",
    "# Create an 70-30 train-test split on the dataset\n",
    "X_train, X_test, y_train, y_test = train_test_split(X, y, test_size=0.3, random_state=101)\n",
    "\n"
   ]
  },
  {
   "attachments": {},
   "cell_type": "markdown",
   "id": "c03221b0",
   "metadata": {},
   "source": [
    "## 2. Choose an algorithm"
   ]
  },
  {
   "cell_type": "markdown",
   "id": "6b031962",
   "metadata": {},
   "source": [
    "I have decided to use linear regression for this regression model as it does not need the complexity of a logistic regression as most relatinships should be linear, and the model needs to find a numerical output not a categorical output\n",
    "\n",
    "The model works by making a best fit line for the correlation between a given datapoint and the desired output value(s), then combining these together to create a prediction of the desired value given the other values"
   ]
  },
  {
   "attachments": {},
   "cell_type": "markdown",
   "id": "3e06351b",
   "metadata": {},
   "source": [
    "## 3. Train and test a model"
   ]
  },
  {
   "cell_type": "code",
   "execution_count": 82,
   "id": "619bb3d3",
   "metadata": {},
   "outputs": [],
   "source": [
    "from sklearn.linear_model import LinearRegression\n",
    "from sklearn.metrics import mean_squared_error\n",
    "\n",
    "model = LinearRegression()\n",
    "model = model.fit(X_train, y_train)"
   ]
  },
  {
   "attachments": {},
   "cell_type": "markdown",
   "id": "5cafcd88",
   "metadata": {},
   "source": [
    "## 4. Evaluate the model "
   ]
  },
  {
   "cell_type": "code",
   "execution_count": 83,
   "id": "8ae12cb5",
   "metadata": {},
   "outputs": [
    {
     "name": "stdout",
     "output_type": "stream",
     "text": [
      "0.295639697177544\n"
     ]
    }
   ],
   "source": [
    "from sklearn.metrics import r2_score\n",
    "r2 = r2_score(y_test, y_pred)\n",
    "print(r2)"
   ]
  },
  {
   "cell_type": "code",
   "execution_count": 84,
   "id": "ce80d86d",
   "metadata": {},
   "outputs": [
    {
     "name": "stdout",
     "output_type": "stream",
     "text": [
      "0.12824772120938513\n"
     ]
    }
   ],
   "source": [
    "from sklearn.metrics import mean_squared_error\n",
    "rmse = mean_squared_error(y_test, y_pred, squared=False)\n",
    "print(rmse)"
   ]
  },
  {
   "cell_type": "code",
   "execution_count": 85,
   "id": "bbcc15d3",
   "metadata": {},
   "outputs": [
    {
     "name": "stdout",
     "output_type": "stream",
     "text": [
      "0.1041179449306006\n"
     ]
    }
   ],
   "source": [
    "from sklearn.metrics import mean_absolute_error\n",
    "mae = mean_absolute_error(y_test, y_pred)\n",
    "print(mae)"
   ]
  },
  {
   "attachments": {},
   "cell_type": "markdown",
   "id": "802b550a",
   "metadata": {},
   "source": [
    "## 5. Summary"
   ]
  },
  {
   "attachments": {},
   "cell_type": "markdown",
   "id": "0dda11f9",
   "metadata": {},
   "source": []
  }
 ],
 "metadata": {
  "kernelspec": {
   "display_name": "Python 3 (ipykernel)",
   "language": "python",
   "name": "python3"
  },
  "language_info": {
   "codemirror_mode": {
    "name": "ipython",
    "version": 3
   },
   "file_extension": ".py",
   "mimetype": "text/x-python",
   "name": "python",
   "nbconvert_exporter": "python",
   "pygments_lexer": "ipython3",
   "version": "3.11.3"
  }
 },
 "nbformat": 4,
 "nbformat_minor": 5
}
