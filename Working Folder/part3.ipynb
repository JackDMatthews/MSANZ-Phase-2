{
 "cells": [
  {
   "attachments": {},
   "cell_type": "markdown",
   "metadata": {},
   "source": [
    "# MSA 2023 Phase 2 - Part 3 \n",
    "\n",
    "Unfortunately I did not have time to complete all of part 3, however I have created an entry script and working endpoint for my classification model\n"
   ]
  },
  {
   "cell_type": "markdown",
   "metadata": {},
   "source": [
    "### 1. Load necessary packages and modules"
   ]
  },
  {
   "cell_type": "code",
   "execution_count": 1,
   "metadata": {},
   "outputs": [],
   "source": [
    "# Azure Machine Learning SDK core\n",
    "from azureml.core import Workspace\n",
    "from azureml.core.model import Model\n",
    "\n",
    "# Scikit-learn and others\n",
    "import pickle"
   ]
  },
  {
   "attachments": {},
   "cell_type": "markdown",
   "metadata": {},
   "source": [
    "### 2. Load and connect to workspace"
   ]
  },
  {
   "cell_type": "code",
   "execution_count": 2,
   "metadata": {},
   "outputs": [],
   "source": [
    "ws = Workspace.from_config(path=\"config.json\")"
   ]
  },
  {
   "attachments": {},
   "cell_type": "markdown",
   "metadata": {},
   "source": [
    "### 3. Register model onto Azure"
   ]
  },
  {
   "cell_type": "code",
   "execution_count": 3,
   "metadata": {},
   "outputs": [
    {
     "name": "stdout",
     "output_type": "stream",
     "text": [
      "Registering model MarketRandomForest\n"
     ]
    }
   ],
   "source": [
    "model = Model.register(ws, model_name=\"MarketRandomForest\", model_path=\"MarketClassifier.pkl\")"
   ]
  },
  {
   "attachments": {},
   "cell_type": "markdown",
   "metadata": {},
   "source": [
    "### 4. Create entry script    \n",
    "see score.py"
   ]
  },
  {
   "cell_type": "markdown",
   "metadata": {},
   "source": [
    "### 5. Test and share endpoint for marking"
   ]
  },
  {
   "cell_type": "code",
   "execution_count": 5,
   "metadata": {},
   "outputs": [
    {
     "name": "stdout",
     "output_type": "stream",
     "text": [
      "b'[\"D\", \"B\", \"B\", \"C\", \"C\", \"D\", \"B\", \"C\", \"A\", \"D\", \"B\", \"C\", \"D\", \"B\", \"B\", \"C\"]'\n"
     ]
    }
   ],
   "source": [
    "import urllib.request\n",
    "import json\n",
    "import os\n",
    "import ssl\n",
    "\n",
    "def allowSelfSignedHttps(allowed):\n",
    "    # bypass the server certificate verification on client side\n",
    "    if allowed and not os.environ.get('PYTHONHTTPSVERIFY', '') and getattr(ssl, '_create_unverified_context', None):\n",
    "        ssl._create_default_https_context = ssl._create_unverified_context\n",
    "\n",
    "allowSelfSignedHttps(True) # this line is needed if you use self-signed certificate in your scoring service.\n",
    "\n",
    "# Request data goes here\n",
    "# The example below assumes JSON formatting which may be updated\n",
    "# depending on the format your endpoint expects.\n",
    "# More information can be found here:\n",
    "# https://docs.microsoft.com/azure/machine-learning/how-to-deploy-advanced-entry-script\n",
    "data = {\n",
    "    \"data\": [[1,0,0.24719101123595505,0,0.07142857142857142,1,0.4444444444444444,0,0,0,0,0,1,0,0,0,0,0,0,1,0,0,0],[0,1,0.7528089887640449,1,0.07142857142857142,1,0.1111111111111111,0,0,1,0,0,0,0,0,0,0,0,0,0,0,1,0],[1,1,0.7528089887640449,1,0.0,3,0.2222222222222222,0,0,0,0,0,0,0,1,0,0,0,0,0,0,1,0],[1,1,0.6292134831460674,0,0.0,2,0.2222222222222222,1,0,0,0,0,0,0,0,0,0,0,0,0,0,1,0],[1,0,0.3595505617977528,1,0.07142857142857142,1,0.3333333333333333,0,0,0,0,0,1,0,0,0,0,0,0,0,0,1,0],[0,0,0.3707865168539326,1,0.07142857142857142,1,0.3333333333333333,0,0,0,0,0,1,0,0,0,0,0,0,0,0,1,0],[0,1,0.6853932584269663,1,0.0,1,0.3333333333333333,0,0,1,0,0,0,0,0,0,0,0,0,0,0,0,1],[0,1,0.6179775280898876,1,0.07142857142857142,2,0.4444444444444444,1,0,0,0,0,0,0,0,0,0,0,0,0,0,1,0],[0,0,0.29213483146067415,1,0.07142857142857142,1,0.3333333333333333,0,0,1,0,0,0,0,0,0,0,0,0,0,0,1,0],[1,0,0.21348314606741572,0,0.2857142857142857,1,0.4444444444444444,0,0,0,0,0,1,0,0,0,0,0,0,1,0,0,0],[0,1,0.651685393258427,0,0.0,1,0.1111111111111111,0,1,0,0,0,0,0,0,0,0,0,1,0,0,0,0],[0,0,0.4606741573033708,0,0.07142857142857142,1,0.2222222222222222,0,0,0,0,0,1,0,0,0,1,0,0,0,0,0,0],[0,0,0.3595505617977528,0,0.6428571428571429,1,0.5555555555555556,0,0,0,0,0,0,1,0,0,0,0,1,0,0,0,0],[1,0,0.34831460674157305,0,0.07142857142857142,1,0.6666666666666666,0,0,0,0,0,1,0,0,0,0,0,0,0,0,1,0],[1,1,0.651685393258427,1,0.07142857142857142,2,0.4444444444444444,0,0,0,1,0,0,0,0,0,0,0,0,0,0,1,0],[0,1,0.8876404494382022,1,0.0,3,0.1111111111111111,1,0,0,0,0,0,0,0,0,0,0,0,0,0,1,0]]\n",
    "}\n",
    "\n",
    "body = str.encode(json.dumps(data))\n",
    "\n",
    "url = 'https://msa2023-phase2-azure-kxovj.australiaeast.inference.ml.azure.com/score'\n",
    "# Replace this with the primary/secondary key or AMLToken for the endpoint\n",
    "api_key = 'NXNa9XAejdr5K4oupl730ojZ93k0HkO9'\n",
    "if not api_key:\n",
    "    raise Exception(\"A key should be provided to invoke the endpoint\")\n",
    "\n",
    "# The azureml-model-deployment header will force the request to go to a specific deployment.\n",
    "# Remove this header to have the request observe the endpoint traffic rules\n",
    "headers = {'Content-Type':'application/json', 'Authorization':('Bearer '+ api_key), 'azureml-model-deployment': 'marketrandomforest-1' }\n",
    "\n",
    "req = urllib.request.Request(url, body, headers)\n",
    "\n",
    "try:\n",
    "    response = urllib.request.urlopen(req)\n",
    "\n",
    "    result = response.read()\n",
    "    print(result)\n",
    "except urllib.error.HTTPError as error:\n",
    "    print(\"The request failed with status code: \" + str(error.code))\n",
    "\n",
    "    # Print the headers - they include the requert ID and the timestamp, which are useful for debugging the failure\n",
    "    print(error.info())\n",
    "    print(error.read().decode(\"utf8\", 'ignore'))\n",
    "\n",
    "\n",
    "#first records taken from CSV raw, correct values would be DBBCCDDCADBCDBBC"
   ]
  },
  {
   "attachments": {},
   "cell_type": "markdown",
   "metadata": {},
   "source": [
    "### 6. Cleanup"
   ]
  },
  {
   "cell_type": "markdown",
   "metadata": {},
   "source": [
    "Please do not delete or turn off any resources until the MSA team has completed marking. Once finished marking, this will be announced on Discord, after which (to avoid incurring unnecessary costs):\n",
    "1. Delete your models and endpoints from [Machine Learning Studio](https://ml.azure.com/).\n",
    "1. Delete or turn off any resources you created, as explained in [this section](https://learn.microsoft.com/en-us/azure/machine-learning/tutorial-azure-ml-in-a-day?view=azureml-api-2#delete-all-resources) of the Azure Machine Learning documentation."
   ]
  }
 ],
 "metadata": {
  "interpreter": {
   "hash": "bdb671202a387ebf0bc7bf04476cbafa528fae566193c2efe94e2aaf8539be45"
  },
  "kernelspec": {
   "display_name": "Python 3",
   "language": "python",
   "name": "python3"
  },
  "language_info": {
   "codemirror_mode": {
    "name": "ipython",
    "version": 3
   },
   "file_extension": ".py",
   "mimetype": "text/x-python",
   "name": "python",
   "nbconvert_exporter": "python",
   "pygments_lexer": "ipython3",
   "version": "3.11.3"
  }
 },
 "nbformat": 4,
 "nbformat_minor": 2
}
