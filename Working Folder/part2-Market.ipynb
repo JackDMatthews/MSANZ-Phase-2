{
 "cells": [
  {
   "attachments": {},
   "cell_type": "markdown",
   "id": "ce060bc6",
   "metadata": {},
   "source": [
    "# MSA 2023 Phase 2 - Part 2"
   ]
  },
  {
   "cell_type": "code",
   "execution_count": 6,
   "id": "7d488f42",
   "metadata": {},
   "outputs": [],
   "source": [
    "#importing libraries\n",
    "import sklearn\n",
    "import numpy as np\n",
    "import pandas as pd\n",
    "import seaborn as sns\n",
    "import matplotlib.pyplot as plt\n",
    "%matplotlib inline"
   ]
  },
  {
   "attachments": {},
   "cell_type": "markdown",
   "id": "08c4bc0a",
   "metadata": {},
   "source": [
    "## 1. Load and split preprocessed data"
   ]
  },
  {
   "cell_type": "code",
   "execution_count": 7,
   "id": "425407e4",
   "metadata": {},
   "outputs": [
    {
     "data": {
      "text/html": [
       "<div>\n",
       "<style scoped>\n",
       "    .dataframe tbody tr th:only-of-type {\n",
       "        vertical-align: middle;\n",
       "    }\n",
       "\n",
       "    .dataframe tbody tr th {\n",
       "        vertical-align: top;\n",
       "    }\n",
       "\n",
       "    .dataframe thead th {\n",
       "        text-align: right;\n",
       "    }\n",
       "</style>\n",
       "<table border=\"1\" class=\"dataframe\">\n",
       "  <thead>\n",
       "    <tr style=\"text-align: right;\">\n",
       "      <th></th>\n",
       "      <th>Is_Male</th>\n",
       "      <th>Ever_Married</th>\n",
       "      <th>Age</th>\n",
       "      <th>Graduated</th>\n",
       "      <th>Work_Experience</th>\n",
       "      <th>Spending_Score</th>\n",
       "      <th>Family_Size</th>\n",
       "      <th>Segmentation</th>\n",
       "      <th>Profession_Artist</th>\n",
       "      <th>Profession_Doctor</th>\n",
       "      <th>...</th>\n",
       "      <th>Profession_Homemaker</th>\n",
       "      <th>Profession_Lawyer</th>\n",
       "      <th>Profession_Marketing</th>\n",
       "      <th>Var_1_Cat_1</th>\n",
       "      <th>Var_1_Cat_2</th>\n",
       "      <th>Var_1_Cat_3</th>\n",
       "      <th>Var_1_Cat_4</th>\n",
       "      <th>Var_1_Cat_5</th>\n",
       "      <th>Var_1_Cat_6</th>\n",
       "      <th>Var_1_Cat_7</th>\n",
       "    </tr>\n",
       "  </thead>\n",
       "  <tbody>\n",
       "    <tr>\n",
       "      <th>0</th>\n",
       "      <td>1</td>\n",
       "      <td>0</td>\n",
       "      <td>0.247191</td>\n",
       "      <td>0</td>\n",
       "      <td>0.071429</td>\n",
       "      <td>1</td>\n",
       "      <td>0.444444</td>\n",
       "      <td>D</td>\n",
       "      <td>0</td>\n",
       "      <td>0</td>\n",
       "      <td>...</td>\n",
       "      <td>0</td>\n",
       "      <td>0</td>\n",
       "      <td>0</td>\n",
       "      <td>0</td>\n",
       "      <td>0</td>\n",
       "      <td>0</td>\n",
       "      <td>1</td>\n",
       "      <td>0</td>\n",
       "      <td>0</td>\n",
       "      <td>0</td>\n",
       "    </tr>\n",
       "    <tr>\n",
       "      <th>1</th>\n",
       "      <td>0</td>\n",
       "      <td>1</td>\n",
       "      <td>0.752809</td>\n",
       "      <td>1</td>\n",
       "      <td>0.071429</td>\n",
       "      <td>1</td>\n",
       "      <td>0.111111</td>\n",
       "      <td>B</td>\n",
       "      <td>0</td>\n",
       "      <td>0</td>\n",
       "      <td>...</td>\n",
       "      <td>0</td>\n",
       "      <td>0</td>\n",
       "      <td>0</td>\n",
       "      <td>0</td>\n",
       "      <td>0</td>\n",
       "      <td>0</td>\n",
       "      <td>0</td>\n",
       "      <td>0</td>\n",
       "      <td>1</td>\n",
       "      <td>0</td>\n",
       "    </tr>\n",
       "    <tr>\n",
       "      <th>2</th>\n",
       "      <td>1</td>\n",
       "      <td>1</td>\n",
       "      <td>0.752809</td>\n",
       "      <td>1</td>\n",
       "      <td>0.000000</td>\n",
       "      <td>3</td>\n",
       "      <td>0.222222</td>\n",
       "      <td>B</td>\n",
       "      <td>0</td>\n",
       "      <td>0</td>\n",
       "      <td>...</td>\n",
       "      <td>0</td>\n",
       "      <td>1</td>\n",
       "      <td>0</td>\n",
       "      <td>0</td>\n",
       "      <td>0</td>\n",
       "      <td>0</td>\n",
       "      <td>0</td>\n",
       "      <td>0</td>\n",
       "      <td>1</td>\n",
       "      <td>0</td>\n",
       "    </tr>\n",
       "    <tr>\n",
       "      <th>3</th>\n",
       "      <td>1</td>\n",
       "      <td>1</td>\n",
       "      <td>0.629213</td>\n",
       "      <td>0</td>\n",
       "      <td>0.000000</td>\n",
       "      <td>2</td>\n",
       "      <td>0.222222</td>\n",
       "      <td>C</td>\n",
       "      <td>1</td>\n",
       "      <td>0</td>\n",
       "      <td>...</td>\n",
       "      <td>0</td>\n",
       "      <td>0</td>\n",
       "      <td>0</td>\n",
       "      <td>0</td>\n",
       "      <td>0</td>\n",
       "      <td>0</td>\n",
       "      <td>0</td>\n",
       "      <td>0</td>\n",
       "      <td>1</td>\n",
       "      <td>0</td>\n",
       "    </tr>\n",
       "    <tr>\n",
       "      <th>4</th>\n",
       "      <td>1</td>\n",
       "      <td>0</td>\n",
       "      <td>0.359551</td>\n",
       "      <td>1</td>\n",
       "      <td>0.071429</td>\n",
       "      <td>1</td>\n",
       "      <td>0.333333</td>\n",
       "      <td>C</td>\n",
       "      <td>0</td>\n",
       "      <td>0</td>\n",
       "      <td>...</td>\n",
       "      <td>0</td>\n",
       "      <td>0</td>\n",
       "      <td>0</td>\n",
       "      <td>0</td>\n",
       "      <td>0</td>\n",
       "      <td>0</td>\n",
       "      <td>0</td>\n",
       "      <td>0</td>\n",
       "      <td>1</td>\n",
       "      <td>0</td>\n",
       "    </tr>\n",
       "  </tbody>\n",
       "</table>\n",
       "<p>5 rows × 24 columns</p>\n",
       "</div>"
      ],
      "text/plain": [
       "   Is_Male  Ever_Married       Age  Graduated  Work_Experience  \\\n",
       "0        1             0  0.247191          0         0.071429   \n",
       "1        0             1  0.752809          1         0.071429   \n",
       "2        1             1  0.752809          1         0.000000   \n",
       "3        1             1  0.629213          0         0.000000   \n",
       "4        1             0  0.359551          1         0.071429   \n",
       "\n",
       "   Spending_Score  Family_Size Segmentation  Profession_Artist  \\\n",
       "0               1     0.444444            D                  0   \n",
       "1               1     0.111111            B                  0   \n",
       "2               3     0.222222            B                  0   \n",
       "3               2     0.222222            C                  1   \n",
       "4               1     0.333333            C                  0   \n",
       "\n",
       "   Profession_Doctor  ...  Profession_Homemaker  Profession_Lawyer  \\\n",
       "0                  0  ...                     0                  0   \n",
       "1                  0  ...                     0                  0   \n",
       "2                  0  ...                     0                  1   \n",
       "3                  0  ...                     0                  0   \n",
       "4                  0  ...                     0                  0   \n",
       "\n",
       "   Profession_Marketing  Var_1_Cat_1  Var_1_Cat_2  Var_1_Cat_3  Var_1_Cat_4  \\\n",
       "0                     0            0            0            0            1   \n",
       "1                     0            0            0            0            0   \n",
       "2                     0            0            0            0            0   \n",
       "3                     0            0            0            0            0   \n",
       "4                     0            0            0            0            0   \n",
       "\n",
       "   Var_1_Cat_5  Var_1_Cat_6  Var_1_Cat_7  \n",
       "0            0            0            0  \n",
       "1            0            1            0  \n",
       "2            0            1            0  \n",
       "3            0            1            0  \n",
       "4            0            1            0  \n",
       "\n",
       "[5 rows x 24 columns]"
      ]
     },
     "execution_count": 7,
     "metadata": {},
     "output_type": "execute_result"
    }
   ],
   "source": [
    "#loading and checking data\n",
    "MarketData = pd.read_csv('PreprocessedMarketData.csv')\n",
    "MarketData = MarketData.drop('Unnamed: 0', axis=1)\n",
    "MarketData.head()"
   ]
  },
  {
   "cell_type": "markdown",
   "id": "50de2c07",
   "metadata": {},
   "source": [
    "The data consists of the following   \n",
    "boolean values (1 for yes, 0 for no) for: Is_Male, Ever_Married, Graduated, all of the professions, and the values of 'Var_1'.\n",
    "The last two are from one-hot vectors meaning for each type only one value is true, all of these names are self describing, apart from Var_1 which I do not understand    \n",
    "As well as this there are numerical values which have been normalised for: Age, Work_Experience and Family_Size    \n",
    "The market segments are a categorical value from A through D    \n",
    "The spending score is ordinal data, with 1 being low, 2 being average, and 3 being high\n"
   ]
  },
  {
   "cell_type": "code",
   "execution_count": 8,
   "id": "82b64b4b",
   "metadata": {},
   "outputs": [],
   "source": [
    "from sklearn.model_selection import train_test_split\n",
    "\n",
    "#seperating data to target and other data, then splitting both those to training and test data\n",
    "y = MarketData['Segmentation']\n",
    "X = MarketData.drop('Segmentation', axis=1)\n",
    "X_train, X_test, y_train, y_test = train_test_split(X, y, test_size=0.3, random_state=101)\n",
    "\n"
   ]
  },
  {
   "attachments": {},
   "cell_type": "markdown",
   "id": "c03221b0",
   "metadata": {},
   "source": [
    "## 2. Choose an algorithm"
   ]
  },
  {
   "cell_type": "markdown",
   "id": "6b031962",
   "metadata": {},
   "source": [
    "I have decided to use random forest for this classification model as it should have enough complexity to do well in the dataset while still being one covered in the MSlearn course and reasonable to train.    \n",
    "\n",
    "The model works by creating a large amount of decision trees and then running them all on a given input, and taking the most common output of the trees to create its' output. A singular decision tree is a simple model trained by partitioning the dataset through simple questions (such as \"is age > 0.5\", meaning in this case is their age above average) to best devide the dataset by the output column. This however is prone to overfitting, so by using many trees we attempt to cancel out the overfitting by overfitting in different directions"
   ]
  },
  {
   "attachments": {},
   "cell_type": "markdown",
   "id": "3e06351b",
   "metadata": {},
   "source": [
    "## 3. Train and test a model"
   ]
  },
  {
   "cell_type": "code",
   "execution_count": 9,
   "id": "619bb3d3",
   "metadata": {},
   "outputs": [],
   "source": [
    "from sklearn.ensemble import RandomForestClassifier\n",
    "from sklearn.metrics import accuracy_score, confusion_matrix, precision_score, recall_score, ConfusionMatrixDisplay\n",
    "from sklearn.model_selection import RandomizedSearchCV, train_test_split\n",
    "\n",
    "#creating and fitting a model\n",
    "model = RandomForestClassifier()\n",
    "model = model.fit(X_train, y_train)"
   ]
  },
  {
   "cell_type": "code",
   "execution_count": 10,
   "id": "a05020b8",
   "metadata": {},
   "outputs": [],
   "source": [
    "#using the model to create a prediction for test data\n",
    "y_pred = model.predict(X_test)"
   ]
  },
  {
   "attachments": {},
   "cell_type": "markdown",
   "id": "5cafcd88",
   "metadata": {},
   "source": [
    "## 4. Evaluate the model "
   ]
  },
  {
   "cell_type": "code",
   "execution_count": 11,
   "id": "55b0785c",
   "metadata": {},
   "outputs": [
    {
     "name": "stdout",
     "output_type": "stream",
     "text": [
      "[[216  90  63 104]\n",
      " [122 126 160  64]\n",
      " [ 67 121 277  55]\n",
      " [112  49  36 338]]\n"
     ]
    }
   ],
   "source": [
    "from sklearn.metrics import confusion_matrix\n",
    "#creating confusion matrix\n",
    "cm = confusion_matrix(y_test, y_pred)\n",
    "print(cm)"
   ]
  },
  {
   "cell_type": "code",
   "execution_count": 12,
   "id": "99ac0246",
   "metadata": {},
   "outputs": [
    {
     "data": {
      "image/png": "[encoded data removed]",
      "text/plain": [
       "<Figure size 640x480 with 1 Axes>"
      ]
     },
     "metadata": {},
     "output_type": "display_data"
    }
   ],
   "source": [
    "#plotting confusion matrix as heatmap\n",
    "Segment = ['A','B','C','D']\n",
    "\n",
    "fig, ax = plt.subplots()\n",
    "im = ax.imshow(cm)\n",
    "ax.set_xticks(np.arange(len(Segment)), labels=Segment)\n",
    "ax.set_yticks(np.arange(len(Segment)), labels=Segment)\n",
    "\n",
    "\n",
    "# Loop over data dimensions and create text annotations.\n",
    "for i in range(len(Segment)):\n",
    "    for j in range(len(Segment)):\n",
    "        text = ax.text(j, i, cm[i][j],ha=\"center\", va=\"center\", color=\"w\")\n",
    "\n",
    "ax.set_title(\"Confusion Matrix\")\n",
    "ax.set_xlabel(\"Model guess\")\n",
    "ax.set_ylabel(\"Real value\")\n",
    "fig.tight_layout()\n",
    "plt.show()"
   ]
  },
  {
   "cell_type": "markdown",
   "id": "97c9fc91",
   "metadata": {},
   "source": [
    "From a cursory glance we can see the model does best for D and closely behind on A and C, but struggles with B. We can also see the model generally does pretty well at telling A and D from B and C from the square in the middle and the corners"
   ]
  },
  {
   "cell_type": "code",
   "execution_count": 15,
   "id": "bf84ba81",
   "metadata": {},
   "outputs": [
    {
     "name": "stdout",
     "output_type": "stream",
     "text": [
      "              precision    recall  f1-score   support\n",
      "\n",
      "           A       0.42      0.46      0.44       473\n",
      "           B       0.33      0.27      0.29       472\n",
      "           C       0.52      0.53      0.52       520\n",
      "           D       0.60      0.63      0.62       535\n",
      "\n",
      "    accuracy                           0.48      2000\n",
      "   macro avg       0.47      0.47      0.47      2000\n",
      "weighted avg       0.47      0.48      0.47      2000\n",
      "\n"
     ]
    }
   ],
   "source": [
    "from sklearn.metrics import classification_report\n",
    "#creating classification report and displaying \n",
    "cr = classification_report(y_test, y_pred)\n",
    "print(cr)"
   ]
  },
  {
   "cell_type": "markdown",
   "id": "2b48731b",
   "metadata": {},
   "source": [
    "Here we get confirmation of this, D has an f1-score of around 60%, C and A are around 50% and 40% respectively with B at around 30%.   \n",
    "\n",
    "Precision is the fraction of values the model said where a certain value that were correctly that value. (Eg out of all values the model said was D, what fraction were D)\n",
    "Recall is the fraction of values that were a certain value that the model correctly identified (Eg out of all values that were D, what fraction did the model identify correctly)    \n",
    "f1-score is 2 times the product of precision and recall divided by the sum of precision and recall (or the harmonic mean of precision and recall), where a higher value is better.    \n",
    "this model is a random forest so ROC and AUC cannot be calculated "
   ]
  },
  {
   "cell_type": "code",
   "execution_count": 14,
   "id": "137d8234",
   "metadata": {},
   "outputs": [
    {
     "data": {
      "text/plain": [
       "['./MarketClassifier.pkl']"
      ]
     },
     "execution_count": 14,
     "metadata": {},
     "output_type": "execute_result"
    }
   ],
   "source": [
    "import joblib\n",
    "#saving model to use in part 3\n",
    "filename = './MarketClassifier.pkl'\n",
    "joblib.dump(model, filename)"
   ]
  },
  {
   "attachments": {},
   "cell_type": "markdown",
   "id": "802b550a",
   "metadata": {},
   "source": [
    "## 5. Summary"
   ]
  },
  {
   "attachments": {},
   "cell_type": "markdown",
   "id": "0dda11f9",
   "metadata": {},
   "source": [
    "The data was loaded, then split into test and training data with prediction target the market segment. The model chosen was random forest, which was trained off the training data, then the model was used to make predictions for the test data. These predictions were then plotted in a correlation matrix to visualise the results. After this a classification report was produced to get numerical values on the model's performance in the test set"
   ]
  }
 ],
 "metadata": {
  "kernelspec": {
   "display_name": "Python 3 (ipykernel)",
   "language": "python",
   "name": "python3"
  },
  "language_info": {
   "codemirror_mode": {
    "name": "ipython",
    "version": 3
   },
   "file_extension": ".py",
   "mimetype": "text/x-python",
   "name": "python",
   "nbconvert_exporter": "python",
   "pygments_lexer": "ipython3",
   "version": "3.11.3"
  }
 },
 "nbformat": 4,
 "nbformat_minor": 5
}
